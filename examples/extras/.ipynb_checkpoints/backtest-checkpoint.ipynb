{
 "cells": [
  {
   "cell_type": "markdown",
   "metadata": {},
   "source": [
    "# Backtest Example Notebook\n",
    "\n",
    "### This notebook contains an example on how to define and backtest a trading strategy with the sanpy backtesting functionality.\n",
    "\n",
    "A backtest is simply a way of evaluating a given trading strategy on historical data. In this example we will use a simple moving average crossover strategy with a 5 day and a 20 day moving average.\n",
    "\n",
    "PLEASE NOTE: This is not financial advice. The strategy used here is just used as an example. In no way do we guarantee that this particular trading strategie works, nor should any backtest be seen as a guarantee for future performance."
   ]
  },
  {
   "cell_type": "code",
   "execution_count": 5,
   "metadata": {},
   "outputs": [],
   "source": [
    "import san\n",
    "from san.backtest import Backtest\n",
    "from pandas.plotting import register_matplotlib_converters\n",
    "\n",
    "register_matplotlib_converters()"
   ]
  },
  {
   "cell_type": "code",
   "execution_count": 6,
   "metadata": {},
   "outputs": [],
   "source": [
    "# Loading Bitcoin price data via the sanpy module\n",
    "\n",
    "data = san.get(\"ohlcv/bitcoin\", from_date=\"2018-01-01\", to_date=\"2020-02-01\")"
   ]
  },
  {
   "cell_type": "code",
   "execution_count": 13,
   "metadata": {},
   "outputs": [
    {
     "data": {
      "text/html": [
       "<div>\n",
       "<style scoped>\n",
       "    .dataframe tbody tr th:only-of-type {\n",
       "        vertical-align: middle;\n",
       "    }\n",
       "\n",
       "    .dataframe tbody tr th {\n",
       "        vertical-align: top;\n",
       "    }\n",
       "\n",
       "    .dataframe thead th {\n",
       "        text-align: right;\n",
       "    }\n",
       "</style>\n",
       "<table border=\"1\" class=\"dataframe\">\n",
       "  <thead>\n",
       "    <tr style=\"text-align: right;\">\n",
       "      <th></th>\n",
       "      <th>openPriceUsd</th>\n",
       "      <th>closePriceUsd</th>\n",
       "      <th>highPriceUsd</th>\n",
       "      <th>lowPriceUsd</th>\n",
       "      <th>volume</th>\n",
       "      <th>marketcap</th>\n",
       "      <th>returns</th>\n",
       "      <th>ma5</th>\n",
       "      <th>ma20</th>\n",
       "    </tr>\n",
       "    <tr>\n",
       "      <th>datetime</th>\n",
       "      <th></th>\n",
       "      <th></th>\n",
       "      <th></th>\n",
       "      <th></th>\n",
       "      <th></th>\n",
       "      <th></th>\n",
       "      <th></th>\n",
       "      <th></th>\n",
       "      <th></th>\n",
       "    </tr>\n",
       "  </thead>\n",
       "  <tbody>\n",
       "    <tr>\n",
       "      <td>2018-01-20 00:00:00+00:00</td>\n",
       "      <td>11656.200000</td>\n",
       "      <td>12899.200000</td>\n",
       "      <td>13103.000000</td>\n",
       "      <td>11656.200000</td>\n",
       "      <td>1.180170e+10</td>\n",
       "      <td>2.169076e+11</td>\n",
       "      <td>0.111291</td>\n",
       "      <td>11732.120000</td>\n",
       "      <td>14180.570000</td>\n",
       "    </tr>\n",
       "    <tr>\n",
       "      <td>2018-01-21 00:00:00+00:00</td>\n",
       "      <td>12889.200000</td>\n",
       "      <td>11600.100000</td>\n",
       "      <td>12895.900000</td>\n",
       "      <td>11288.200000</td>\n",
       "      <td>9.935180e+09</td>\n",
       "      <td>1.950895e+11</td>\n",
       "      <td>-0.100712</td>\n",
       "      <td>11754.040000</td>\n",
       "      <td>14077.715000</td>\n",
       "    </tr>\n",
       "    <tr>\n",
       "      <td>2018-01-22 00:00:00+00:00</td>\n",
       "      <td>11633.100000</td>\n",
       "      <td>10931.400000</td>\n",
       "      <td>11966.400000</td>\n",
       "      <td>10240.200000</td>\n",
       "      <td>1.053740e+10</td>\n",
       "      <td>1.838664e+11</td>\n",
       "      <td>-0.057646</td>\n",
       "      <td>11702.600000</td>\n",
       "      <td>13875.180000</td>\n",
       "    </tr>\n",
       "    <tr>\n",
       "      <td>2018-01-23 00:00:00+00:00</td>\n",
       "      <td>10944.500000</td>\n",
       "      <td>10868.400000</td>\n",
       "      <td>11377.600000</td>\n",
       "      <td>10129.700000</td>\n",
       "      <td>9.660610e+09</td>\n",
       "      <td>1.828303e+11</td>\n",
       "      <td>-0.005763</td>\n",
       "      <td>11581.300000</td>\n",
       "      <td>13658.550000</td>\n",
       "    </tr>\n",
       "    <tr>\n",
       "      <td>2018-01-24 00:00:00+00:00</td>\n",
       "      <td>10903.400000</td>\n",
       "      <td>11205.200000</td>\n",
       "      <td>11501.400000</td>\n",
       "      <td>10639.800000</td>\n",
       "      <td>9.444170e+09</td>\n",
       "      <td>1.885154e+11</td>\n",
       "      <td>0.030989</td>\n",
       "      <td>11500.860000</td>\n",
       "      <td>13438.850000</td>\n",
       "    </tr>\n",
       "    <tr>\n",
       "      <td>...</td>\n",
       "      <td>...</td>\n",
       "      <td>...</td>\n",
       "      <td>...</td>\n",
       "      <td>...</td>\n",
       "      <td>...</td>\n",
       "      <td>...</td>\n",
       "      <td>...</td>\n",
       "      <td>...</td>\n",
       "      <td>...</td>\n",
       "    </tr>\n",
       "    <tr>\n",
       "      <td>2020-01-28 00:00:00+00:00</td>\n",
       "      <td>8910.754427</td>\n",
       "      <td>9357.470379</td>\n",
       "      <td>9358.590317</td>\n",
       "      <td>8908.446929</td>\n",
       "      <td>3.443335e+10</td>\n",
       "      <td>1.701852e+11</td>\n",
       "      <td>0.050242</td>\n",
       "      <td>8735.480289</td>\n",
       "      <td>8576.162320</td>\n",
       "    </tr>\n",
       "    <tr>\n",
       "      <td>2020-01-29 00:00:00+00:00</td>\n",
       "      <td>9380.918808</td>\n",
       "      <td>9316.629504</td>\n",
       "      <td>9400.564789</td>\n",
       "      <td>9269.996022</td>\n",
       "      <td>3.068260e+10</td>\n",
       "      <td>1.694610e+11</td>\n",
       "      <td>-0.004365</td>\n",
       "      <td>8909.719334</td>\n",
       "      <td>8648.040219</td>\n",
       "    </tr>\n",
       "    <tr>\n",
       "      <td>2020-01-30 00:00:00+00:00</td>\n",
       "      <td>9308.646685</td>\n",
       "      <td>9508.993595</td>\n",
       "      <td>9551.767003</td>\n",
       "      <td>9235.213222</td>\n",
       "      <td>3.237879e+10</td>\n",
       "      <td>1.729786e+11</td>\n",
       "      <td>0.020647</td>\n",
       "      <td>9137.948498</td>\n",
       "      <td>8715.162191</td>\n",
       "    </tr>\n",
       "    <tr>\n",
       "      <td>2020-01-31 00:00:00+00:00</td>\n",
       "      <td>9500.363689</td>\n",
       "      <td>9350.529365</td>\n",
       "      <td>9519.740124</td>\n",
       "      <td>9234.693657</td>\n",
       "      <td>2.943249e+10</td>\n",
       "      <td>1.701128e+11</td>\n",
       "      <td>-0.016665</td>\n",
       "      <td>9288.688404</td>\n",
       "      <td>8780.811790</td>\n",
       "    </tr>\n",
       "    <tr>\n",
       "      <td>2020-02-01 00:00:00+00:00</td>\n",
       "      <td>9352.065411</td>\n",
       "      <td>9392.875368</td>\n",
       "      <td>9438.233425</td>\n",
       "      <td>9314.278017</td>\n",
       "      <td>2.592266e+10</td>\n",
       "      <td>1.709007e+11</td>\n",
       "      <td>0.004529</td>\n",
       "      <td>9385.299642</td>\n",
       "      <td>8840.830858</td>\n",
       "    </tr>\n",
       "  </tbody>\n",
       "</table>\n",
       "<p>743 rows × 9 columns</p>\n",
       "</div>"
      ],
      "text/plain": [
       "                           openPriceUsd  closePriceUsd  highPriceUsd  \\\n",
       "datetime                                                               \n",
       "2018-01-20 00:00:00+00:00  11656.200000   12899.200000  13103.000000   \n",
       "2018-01-21 00:00:00+00:00  12889.200000   11600.100000  12895.900000   \n",
       "2018-01-22 00:00:00+00:00  11633.100000   10931.400000  11966.400000   \n",
       "2018-01-23 00:00:00+00:00  10944.500000   10868.400000  11377.600000   \n",
       "2018-01-24 00:00:00+00:00  10903.400000   11205.200000  11501.400000   \n",
       "...                                 ...            ...           ...   \n",
       "2020-01-28 00:00:00+00:00   8910.754427    9357.470379   9358.590317   \n",
       "2020-01-29 00:00:00+00:00   9380.918808    9316.629504   9400.564789   \n",
       "2020-01-30 00:00:00+00:00   9308.646685    9508.993595   9551.767003   \n",
       "2020-01-31 00:00:00+00:00   9500.363689    9350.529365   9519.740124   \n",
       "2020-02-01 00:00:00+00:00   9352.065411    9392.875368   9438.233425   \n",
       "\n",
       "                            lowPriceUsd        volume     marketcap   returns  \\\n",
       "datetime                                                                        \n",
       "2018-01-20 00:00:00+00:00  11656.200000  1.180170e+10  2.169076e+11  0.111291   \n",
       "2018-01-21 00:00:00+00:00  11288.200000  9.935180e+09  1.950895e+11 -0.100712   \n",
       "2018-01-22 00:00:00+00:00  10240.200000  1.053740e+10  1.838664e+11 -0.057646   \n",
       "2018-01-23 00:00:00+00:00  10129.700000  9.660610e+09  1.828303e+11 -0.005763   \n",
       "2018-01-24 00:00:00+00:00  10639.800000  9.444170e+09  1.885154e+11  0.030989   \n",
       "...                                 ...           ...           ...       ...   \n",
       "2020-01-28 00:00:00+00:00   8908.446929  3.443335e+10  1.701852e+11  0.050242   \n",
       "2020-01-29 00:00:00+00:00   9269.996022  3.068260e+10  1.694610e+11 -0.004365   \n",
       "2020-01-30 00:00:00+00:00   9235.213222  3.237879e+10  1.729786e+11  0.020647   \n",
       "2020-01-31 00:00:00+00:00   9234.693657  2.943249e+10  1.701128e+11 -0.016665   \n",
       "2020-02-01 00:00:00+00:00   9314.278017  2.592266e+10  1.709007e+11  0.004529   \n",
       "\n",
       "                                    ma5          ma20  \n",
       "datetime                                               \n",
       "2018-01-20 00:00:00+00:00  11732.120000  14180.570000  \n",
       "2018-01-21 00:00:00+00:00  11754.040000  14077.715000  \n",
       "2018-01-22 00:00:00+00:00  11702.600000  13875.180000  \n",
       "2018-01-23 00:00:00+00:00  11581.300000  13658.550000  \n",
       "2018-01-24 00:00:00+00:00  11500.860000  13438.850000  \n",
       "...                                 ...           ...  \n",
       "2020-01-28 00:00:00+00:00   8735.480289   8576.162320  \n",
       "2020-01-29 00:00:00+00:00   8909.719334   8648.040219  \n",
       "2020-01-30 00:00:00+00:00   9137.948498   8715.162191  \n",
       "2020-01-31 00:00:00+00:00   9288.688404   8780.811790  \n",
       "2020-02-01 00:00:00+00:00   9385.299642   8840.830858  \n",
       "\n",
       "[743 rows x 9 columns]"
      ]
     },
     "execution_count": 13,
     "metadata": {},
     "output_type": "execute_result"
    }
   ],
   "source": [
    "data"
   ]
  },
  {
   "cell_type": "code",
   "execution_count": 63,
   "metadata": {},
   "outputs": [],
   "source": [
    "# Calculating returns (daily percent change in price)\n",
    "returns = data.closePriceUsd.pct_change().dropna()\n",
    "\n",
    "\n",
    "# Define moving averages\n",
    "ma5 = data.closePriceUsd.rolling(5).mean().dropna()\n",
    "ma20 = data.closePriceUsd.rolling(20).mean().dropna()\n"
   ]
  },
  {
   "cell_type": "code",
   "execution_count": 64,
   "metadata": {},
   "outputs": [
    {
     "data": {
      "text/plain": [
       "datetime\n",
       "2018-03-19 00:00:00+00:00    0.049488\n",
       "2018-03-20 00:00:00+00:00    0.032769\n",
       "2018-03-21 00:00:00+00:00    0.001774\n",
       "2018-03-22 00:00:00+00:00   -0.022489\n",
       "2018-03-23 00:00:00+00:00    0.017317\n",
       "                               ...   \n",
       "2020-01-28 00:00:00+00:00    0.050242\n",
       "2020-01-29 00:00:00+00:00   -0.004365\n",
       "2020-01-30 00:00:00+00:00    0.020647\n",
       "2020-01-31 00:00:00+00:00   -0.016665\n",
       "2020-02-01 00:00:00+00:00    0.004529\n",
       "Name: closePriceUsd, Length: 685, dtype: float64"
      ]
     },
     "execution_count": 64,
     "metadata": {},
     "output_type": "execute_result"
    }
   ],
   "source": [
    "returns"
   ]
  },
  {
   "cell_type": "code",
   "execution_count": 55,
   "metadata": {},
   "outputs": [
    {
     "data": {
      "text/plain": [
       "datetime\n",
       "2018-03-22 00:00:00+00:00    8685.110000\n",
       "2018-03-23 00:00:00+00:00    8816.298000\n",
       "2018-03-24 00:00:00+00:00    8823.792000\n",
       "2018-03-25 00:00:00+00:00    8740.254000\n",
       "2018-03-26 00:00:00+00:00    8596.278000\n",
       "                                ...     \n",
       "2020-01-28 00:00:00+00:00    8735.480289\n",
       "2020-01-29 00:00:00+00:00    8909.719334\n",
       "2020-01-30 00:00:00+00:00    9137.948498\n",
       "2020-01-31 00:00:00+00:00    9288.688404\n",
       "2020-02-01 00:00:00+00:00    9385.299642\n",
       "Name: closePriceUsd, Length: 682, dtype: float64"
      ]
     },
     "execution_count": 55,
     "metadata": {},
     "output_type": "execute_result"
    }
   ],
   "source": [
    "ma5"
   ]
  },
  {
   "cell_type": "code",
   "execution_count": 56,
   "metadata": {},
   "outputs": [
    {
     "data": {
      "text/plain": [
       "datetime\n",
       "2018-04-06 00:00:00+00:00    7809.075500\n",
       "2018-04-07 00:00:00+00:00    7743.446000\n",
       "2018-04-08 00:00:00+00:00    7663.089500\n",
       "2018-04-09 00:00:00+00:00    7555.952500\n",
       "2018-04-10 00:00:00+00:00    7451.226500\n",
       "                                ...     \n",
       "2020-01-28 00:00:00+00:00    8576.162320\n",
       "2020-01-29 00:00:00+00:00    8648.040219\n",
       "2020-01-30 00:00:00+00:00    8715.162191\n",
       "2020-01-31 00:00:00+00:00    8780.811790\n",
       "2020-02-01 00:00:00+00:00    8840.830858\n",
       "Name: closePriceUsd, Length: 667, dtype: float64"
      ]
     },
     "execution_count": 56,
     "metadata": {},
     "output_type": "execute_result"
    }
   ],
   "source": [
    "ma20"
   ]
  },
  {
   "cell_type": "markdown",
   "metadata": {},
   "source": [
    "Now we define the trades. In this case every time the 5 day moving average is above the 20 day moving average. \n",
    "\n",
    "Alternatively the trades could also be defined as `1` for BUY and `0` for SELL. Two ones in a row represent holding for two days. \n",
    "\n",
    "Since the backtest calculates the performance by multiplying the returns by the trade, it is also possible to specify shorting as a `-1` and a 2x leverage as a `2`."
   ]
  },
  {
   "cell_type": "code",
   "execution_count": 16,
   "metadata": {},
   "outputs": [],
   "source": [
    "trades = ma5 > ma20"
   ]
  },
  {
   "cell_type": "code",
   "execution_count": 57,
   "metadata": {},
   "outputs": [
    {
     "data": {
      "text/plain": [
       "datetime\n",
       "2018-01-20 00:00:00+00:00    False\n",
       "2018-01-21 00:00:00+00:00    False\n",
       "2018-01-22 00:00:00+00:00    False\n",
       "2018-01-23 00:00:00+00:00    False\n",
       "2018-01-24 00:00:00+00:00    False\n",
       "                             ...  \n",
       "2020-01-28 00:00:00+00:00     True\n",
       "2020-01-29 00:00:00+00:00     True\n",
       "2020-01-30 00:00:00+00:00     True\n",
       "2020-01-31 00:00:00+00:00     True\n",
       "2020-02-01 00:00:00+00:00     True\n",
       "Length: 743, dtype: bool"
      ]
     },
     "execution_count": 57,
     "metadata": {},
     "output_type": "execute_result"
    }
   ],
   "source": [
    "trades"
   ]
  },
  {
   "cell_type": "markdown",
   "metadata": {},
   "source": [
    "The `Backtest` object needs at least the returns of the traded asset and the trades as an input. \n",
    "Optionally you can specify transaction costs per trade, the amount of your portfolio you want to invest and whether or not you want the backtest to have a lag. A lag is essential to avoid biases since a buy signal based on today's returns should only be executed tomorrow. The is included by default setting."
   ]
  },
  {
   "cell_type": "code",
   "execution_count": 11,
   "metadata": {},
   "outputs": [],
   "source": [
    "back_test = Backtest(\n",
    "    returns,\n",
    "    trades,\n",
    "    lagged=True,\n",
    "    transaction_cost = 0.003,\n",
    "    percent_invested_per_trade = 1\n",
    ")"
   ]
  },
  {
   "cell_type": "code",
   "execution_count": 59,
   "metadata": {},
   "outputs": [
    {
     "name": "stdout",
     "output_type": "stream",
     "text": [
      "Returns in Percent:  21.66\n",
      "Returns Benchmark in Percent:  -27.18\n",
      "Annualized Returns in Percent:  9.63\n",
      "Annualized Sharpe Raito:  0.44\n",
      "Number of Trades:  46\n"
     ]
    }
   ],
   "source": [
    "# Generate a summary of the backtest\n",
    "back_test.summary()"
   ]
  },
  {
   "cell_type": "code",
   "execution_count": 60,
   "metadata": {},
   "outputs": [
    {
     "data": {
      "image/png": "[encoded data removed]",
      "text/plain": [
       "<Figure size 1080x576 with 1 Axes>"
      ]
     },
     "metadata": {
      "needs_background": "light"
     },
     "output_type": "display_data"
    }
   ],
   "source": [
    "# Plot the performance of the strategy against simply holding the asset\n",
    "back_test.plot_backtest(viz='hodl')"
   ]
  }
 ],
 "metadata": {
  "kernelspec": {
   "display_name": "Python 3",
   "language": "python",
   "name": "python3"
  },
  "language_info": {
   "codemirror_mode": {
    "name": "ipython",
    "version": 3
   },
   "file_extension": ".py",
   "mimetype": "text/x-python",
   "name": "python",
   "nbconvert_exporter": "python",
   "pygments_lexer": "ipython3",
   "version": "3.7.3"
  }
 },
 "nbformat": 4,
 "nbformat_minor": 4
}
